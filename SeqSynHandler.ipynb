{
 "cells": [
  {
   "cell_type": "code",
   "execution_count": 1,
   "id": "c7e08149",
   "metadata": {},
   "outputs": [
    {
     "name": "stdout",
     "output_type": "stream",
     "text": [
      "[1. 0. 0. 0. 0. 0. 0. 0. 0. 1. 0. 0. 0. 0. 0. 0. 0. 0. 1. 0. 0. 0. 0. 0.\n",
      " 0. 0. 0. 1. 0. 0. 0. 0. 0. 0. 0. 0. 0. 0. 0. 0.]\n",
      "[-0.07       -0.06994978 -0.06990006 ...  0.          0.\n",
      "  0.        ]\n"
     ]
    },
    {
     "data": {
      "image/png": "[encoded data removed]",
      "text/plain": [
       "<Figure size 432x288 with 1 Axes>"
      ]
     },
     "metadata": {
      "needs_background": "light"
     },
     "output_type": "display_data"
    }
   ],
   "source": [
    "#single LIF neuron- sequential synaptic input using class SeqSynHandler\n",
    "\n",
    "\n",
    "import sys\n",
    "import os\n",
    "import moose\n",
    "import matplotlib.pyplot as plt\n",
    "import numpy as np\n",
    "\n",
    "def setupmodel(modelpath, iaf_Rm, iaf_Cm, pulse_interval):\n",
    "    model_container = moose.Neutral(modelpath)\n",
    "    data_container = moose.Neutral(datapath)\n",
    "    iaf = moose.LIF('%s/iaf' % (modelpath))\n",
    "    iaf.Rm = iaf_Rm\n",
    "    iaf.Cm = iaf_Cm\n",
    "    iaf.initVm = -0.070\n",
    "    iaf.Em = -0.065\n",
    "    #iaf.Vreset = -0.070\n",
    "    iaf.thresh = -0.055\n",
    "    iaf.refractoryPeriod = 0.005\n",
    "\n",
    "    syn = moose.SynChan('%s/syn' % (iaf.path))\n",
    "    synh = moose.SeqSynHandler( syn.path + '/synh')\n",
    "    for i in synh.vec:\n",
    "        i.kernelEquation = \"(x == t) \"\n",
    "    synh.vec.kernelWidth = 4\n",
    "    synh.vec.historyTime = 5\n",
    "    synh.vec.sequenceScale = 0.001\n",
    "    synh.vec.plasticityScale = 0.0\n",
    "    synh.vec.seqDt = 0.5\n",
    "    v = synh.kernel \n",
    "    print(v)\n",
    "\n",
    "    moose.connect(synh, 'activationOut', syn, 'activation')\n",
    "\n",
    "\n",
    "\n",
    "    synh.synapse.num = 4\n",
    "    synh.synapse[0].delay = 0.01\n",
    "    syn.Ek = 0.0\n",
    "    syn.Gbar = 1.0\n",
    "    moose.connect(syn, 'channel', iaf, 'channel')\n",
    "    moose.connect(iaf, 'VmOut', syn, 'Vm')\n",
    "    sg = moose.SpikeGen('%s/spike' % (modelpath))\n",
    "    sg.threshold = 0.1\n",
    "    moose.connect(sg, 'spikeOut', synh.synapse[0], 'addSpike')\n",
    "    \n",
    "    pulse = moose.PulseGen('%s/pulse' % (modelpath))\n",
    "    pulse.count = 4\n",
    "    pulse_interval = 1\n",
    "    for i in range(0,3):\n",
    "        pulse.delay[i] = pulse_interval \n",
    "        pulse.width[i] = 1e-3\n",
    "        pulse.level[i] = 0.5\n",
    "    moose.connect(pulse, 'output', sg, 'Vm')\n",
    "    return {\n",
    "        'model': model_container,\n",
    "        'iaf': iaf,\n",
    "        'synchan': syn,\n",
    "        'spikegen': sg,\n",
    "        'pulsegen': pulse\n",
    "        }\n",
    "\n",
    "if __name__ == '__main__':\n",
    "    modelpath = '/lif_demo'\n",
    "    datapath = '/data'\n",
    "    simtime = 5.0\n",
    "    setup = setupmodel(modelpath, 127e6, 7.8e-11, 0.1)\n",
    "    \n",
    "    # Setup data recording\n",
    "    data_container = moose.Neutral(datapath)\n",
    "    vm_table = moose.Table('%s/vm' % (data_container.path))\n",
    "    \n",
    "    moose.connect(vm_table, 'requestOut', setup['iaf'], 'getVm')\n",
    "    spike_table = moose.Table('%s/spike' % (data_container.path))\n",
    "\n",
    "    pulse_table = moose.Table('%s/pulse' % (data_container.path))\n",
    "    moose.connect(pulse_table, 'requestOut', setup['pulsegen'], 'getOutputValue')\n",
    "    \n",
    "    gsyn_table = moose.Table('%s/gk' % (datapath))\n",
    "    moose.connect(gsyn_table, 'requestOut', setup['synchan'], 'getIk')\n",
    "    \n",
    "    # Schedule model components for simulation\n",
    "    moose.setClock(0, 1e-4)\n",
    "    moose.setClock(1, 1e-4)\n",
    "    moose.setClock(2, 1e-4)\n",
    "    moose.setClock(3, 1e-4)\n",
    "    moose.useClock(0, '%s,%s' % (setup['pulsegen'].path, setup['spikegen'].path), 'process')\n",
    "    moose.useClock(1, setup['synchan'].path, 'process')\n",
    "    moose.useClock(2, setup['iaf'].path, 'process')\n",
    "    moose.useClock(3, '%s/##' % (datapath), 'process')\n",
    "    \n",
    "    #run simulation\n",
    "    moose.reinit()\n",
    "    moose.start(simtime)\n",
    "    t = np.linspace(0, simtime, len(pulse_table.vector))\n",
    "    plt.plot(t, pulse_table.vector, 'r', label='Input pulse')\n",
    "    plt.plot(t, vm_table.vector, 'b', label='Vm')\n",
    "    print(vm_table.vector)\n",
    "    plt.plot(t, gsyn_table.vector, 'c', label='Isyn')\n",
    "    plt.legend()\n",
    "    plt.xlabel(\"Time (s)\")\n",
    "    plt.show()"
   ]
  },
  {
   "cell_type": "code",
   "execution_count": null,
   "id": "5c22ace9",
   "metadata": {},
   "outputs": [],
   "source": []
  }
 ],
 "metadata": {
  "kernelspec": {
   "display_name": "Python 3 (ipykernel)",
   "language": "python",
   "name": "python3"
  },
  "language_info": {
   "codemirror_mode": {
    "name": "ipython",
    "version": 3
   },
   "file_extension": ".py",
   "mimetype": "text/x-python",
   "name": "python",
   "nbconvert_exporter": "python",
   "pygments_lexer": "ipython3",
   "version": "3.8.10"
  }
 },
 "nbformat": 4,
 "nbformat_minor": 5
}
